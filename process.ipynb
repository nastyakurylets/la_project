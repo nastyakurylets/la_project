{
 "cells": [
  {
   "cell_type": "code",
   "execution_count": 2,
   "metadata": {},
   "outputs": [
    {
     "name": "stdout",
     "output_type": "stream",
     "text": [
      "U = [[0.844029577078625, 0.844029577078625, 0.844029577078625], [0.4490988188351517, 0.4490988188351517, 0.4490988188351517], [0.29312851095952575, 0.29312851095952575, 0.29312851095952575]]\n",
      "S = [[2.53208888623786, 0, 0], [0, 2.53208888623786, 0], [0, 0, 2.53208888623786]]\n",
      "V = [[0.4490988188351517, 0.4490988188351517, 0.4490988188351517], [0.29312851095952575, 0.29312851095952575, 0.29312851095952575], [0.844029577078625, 0.844029577078625, 0.844029577078625]]\n"
     ]
    }
   ],
   "source": [
    "def transpose(matrix):\n",
    "    return [[matrix[j][i] for j in range(len(matrix))] for i in range(len(matrix[0]))]\n",
    "\n",
    "def multiply(A, B):\n",
    "    return [[sum(A[i][k] * B[k][j] for k in range(len(B))) for j in range(len(B[0]))] for i in range(len(A))]\n",
    "\n",
    "def identity(n):\n",
    "    return [[1 if i == j else 0 for j in range(n)] for i in range(n)]\n",
    "\n",
    "def power_method(A, num_iter=100, tol=1e-6):\n",
    "    n = len(A)\n",
    "    b_k = [1] * n  # Початковий вектор\n",
    "\n",
    "    for _ in range(num_iter):\n",
    "        b_k1 = multiply(A, [[x] for x in b_k])  # A * b_k\n",
    "        b_k1 = [x[0] for x in b_k1]  # Перетворюємо у 1D\n",
    "        norm = sum(x**2 for x in b_k1) ** 0.5  # Норма\n",
    "        b_k1 = [x / norm for x in b_k1]  # Нормалізуємо\n",
    "\n",
    "        if sum(abs(b_k1[i] - b_k[i]) for i in range(n)) < tol:\n",
    "            break  # Зупиняємося, якщо зміни малі\n",
    "\n",
    "        b_k = b_k1\n",
    "\n",
    "    eigenvalue = sum(b_k[i] * multiply(A, [[b_k1[i]] for i in range(n)])[i][0] for i in range(n))\n",
    "    return eigenvalue, b_k1\n",
    "\n",
    "def svd_manual(A):\n",
    "    At = transpose(A)\n",
    "\n",
    "    # Знаходимо власні значення та вектори для A^T A\n",
    "    AtA = multiply(At, A)\n",
    "    eigenvalues_V, V = [], []\n",
    "\n",
    "    for _ in range(len(AtA)):\n",
    "        val, vec = power_method(AtA)\n",
    "        eigenvalues_V.append(val)\n",
    "        V.append(vec)\n",
    "\n",
    "    # Матриця V (стовпці - власні вектори)\n",
    "    V = transpose(V)\n",
    "\n",
    "    # Власні значення -> квадратний корінь -> S\n",
    "    S = [[(val ** 0.5 if i == j else 0) for j in range(len(AtA))] for i, val in enumerate(eigenvalues_V)]\n",
    "\n",
    "    # Аналогічно знаходимо власні вектори для AA^T\n",
    "    AAt = multiply(A, At)\n",
    "    eigenvalues_U, U = [], []\n",
    "\n",
    "    for _ in range(len(AAt)):\n",
    "        val, vec = power_method(AAt)\n",
    "        eigenvalues_U.append(val)\n",
    "        U.append(vec)\n",
    "\n",
    "    U = transpose(U)\n",
    "\n",
    "    return U, S, V\n",
    "\n",
    "# Тестовий приклад\n",
    "A = [[1, 0, 2], [0, 1, 1], [1, 1, 0]]\n",
    "U, S, V = svd_manual(A)\n",
    "\n",
    "print(\"U =\", U)\n",
    "print(\"S =\", S)\n",
    "print(\"V =\", V)\n"
   ]
  }
 ],
 "metadata": {
  "kernelspec": {
   "display_name": ".venv",
   "language": "python",
   "name": "python3"
  },
  "language_info": {
   "codemirror_mode": {
    "name": "ipython",
    "version": 3
   },
   "file_extension": ".py",
   "mimetype": "text/x-python",
   "name": "python",
   "nbconvert_exporter": "python",
   "pygments_lexer": "ipython3",
   "version": "3.12.3"
  }
 },
 "nbformat": 4,
 "nbformat_minor": 2
}
